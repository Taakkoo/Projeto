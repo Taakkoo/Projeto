{
  "cells": [
    {
      "cell_type": "code",
      "execution_count": 27,
      "metadata": {
        "colab": {
          "base_uri": "https://localhost:8080/"
        },
        "id": "rRd6JEmnALW7",
        "outputId": "7ab9b534-9a82-4f51-c200-8bed1fb209cd"
      },
      "outputs": [
        {
          "output_type": "stream",
          "name": "stdout",
          "text": [
            "Requirement already satisfied: pyspark in /usr/local/lib/python3.11/dist-packages (3.5.1)\n",
            "Requirement already satisfied: py4j==0.10.9.7 in /usr/local/lib/python3.11/dist-packages (from pyspark) (0.10.9.7)\n"
          ]
        }
      ],
      "source": [
        "!pip install pyspark"
      ]
    },
    {
      "cell_type": "code",
      "source": [
        "import pyspark\n",
        "from pyspark.sql import SparkSession\n",
        "from pyspark.sql.functions import col, lit, year, sum as spark_sum\n",
        "from pyspark.sql.types import IntegerType, DateType"
      ],
      "metadata": {
        "id": "xwuFhKFN4i91"
      },
      "execution_count": 28,
      "outputs": []
    },
    {
      "cell_type": "code",
      "source": [
        "spark = SparkSession.builder.getOrCreate()"
      ],
      "metadata": {
        "id": "3DKEwwis4oDd"
      },
      "execution_count": 29,
      "outputs": []
    },
    {
      "cell_type": "code",
      "source": [
        "from google.colab import drive\n",
        "drive.mount('/content/drive')"
      ],
      "metadata": {
        "colab": {
          "base_uri": "https://localhost:8080/"
        },
        "id": "_b4heN47dNhm",
        "outputId": "40b6cee1-413c-41f2-d3d3-653024ff771c"
      },
      "execution_count": 30,
      "outputs": [
        {
          "output_type": "stream",
          "name": "stdout",
          "text": [
            "Drive already mounted at /content/drive; to attempt to forcibly remount, call drive.mount(\"/content/drive\", force_remount=True).\n"
          ]
        }
      ]
    },
    {
      "cell_type": "code",
      "source": [
        "df_tabela_15 = spark.read.csv('/content/drive/MyDrive/Colab Notebooks/data/Dados Gv/tabela_2015.csv', header=True, inferSchema=True)\n",
        "df_tabela_16 = spark.read.csv('/content/drive/MyDrive/Colab Notebooks/data/Dados Gv/tabela_2016.csv', header=True, inferSchema=True)\n",
        "df_tabela_17 = spark.read.csv('/content/drive/MyDrive/Colab Notebooks/data/Dados Gv/tabela_2017.csv', header=True, inferSchema=True)\n",
        "df_tabela_18 = spark.read.csv('/content/drive/MyDrive/Colab Notebooks/data/Dados Gv/tabela_2018.csv', header=True, inferSchema=True)\n",
        "df_tabela_19 = spark.read.csv('/content/drive/MyDrive/Colab Notebooks/data/Dados Gv/tabela_2019.csv', header=True, inferSchema=True)\n",
        "df_tabela_20 = spark.read.csv('/content/drive/MyDrive/Colab Notebooks/data/Dados Gv/tabela_2020.csv', header=True, inferSchema=True)\n",
        "df_tabela_21 = spark.read.csv('/content/drive/MyDrive/Colab Notebooks/data/Dados Gv/tabela_2021.csv', header=True, inferSchema=True)\n",
        "df_tabela_22 = spark.read.csv('/content/drive/MyDrive/Colab Notebooks/data/Dados Gv/tabela_2022.csv', header=True, inferSchema=True)\n",
        "df_tabela_23 = spark.read.csv('/content/drive/MyDrive/Colab Notebooks/data/Dados Gv/tabela_2023.csv', header=True, inferSchema=True)\n",
        "df_tabela_24 = spark.read.csv('/content/drive/MyDrive/Colab Notebooks/data/Dados Gv/tabela_2024.csv', header=True, inferSchema=True)\n",
        "df_tabela_25 = spark.read.csv('/content/drive/MyDrive/Colab Notebooks/data/Dados Gv/tabela_2025.csv', header=True, inferSchema=True)\n"
      ],
      "metadata": {
        "id": "ZXPxEAxy2bLI"
      },
      "execution_count": 31,
      "outputs": []
    },
    {
      "cell_type": "code",
      "source": [
        "colunas_para_remover = [\"Data\", \"Chuva (mm)\", \"Unnamed: 2\", \"Unnamed: 5\", \"Unnamed: 8\", \"Data formato mês\"]"
      ],
      "metadata": {
        "id": "C0KoKKM148ZK"
      },
      "execution_count": 32,
      "outputs": []
    },
    {
      "cell_type": "code",
      "source": [
        "df_tabela_15 = df_tabela_15.drop(*colunas_para_remover)\n",
        "df_tabela_16 = df_tabela_16.drop(*colunas_para_remover)\n",
        "df_tabela_17 = df_tabela_17.drop(*colunas_para_remover)\n",
        "df_tabela_18 = df_tabela_18.drop(*colunas_para_remover)\n",
        "df_tabela_19 = df_tabela_19.drop(*colunas_para_remover)\n",
        "df_tabela_20 = df_tabela_20.drop(*colunas_para_remover)\n",
        "df_tabela_21 = df_tabela_21.drop(*colunas_para_remover)\n",
        "df_tabela_22 = df_tabela_22.drop(*colunas_para_remover)\n",
        "df_tabela_23 = df_tabela_23.drop(*colunas_para_remover)\n",
        "df_tabela_24 = df_tabela_24.drop(*colunas_para_remover)\n",
        "df_tabela_25 = df_tabela_25.drop(*colunas_para_remover)"
      ],
      "metadata": {
        "id": "jQXuGm6IcNmM"
      },
      "execution_count": 33,
      "outputs": []
    },
    {
      "cell_type": "code",
      "source": [
        "df_tabela_15.show()"
      ],
      "metadata": {
        "id": "AcLbAlCfYu6W",
        "outputId": "76d00ec4-d50b-40b4-dee9-0a7cebcdac55",
        "colab": {
          "base_uri": "https://localhost:8080/"
        }
      },
      "execution_count": 35,
      "outputs": [
        {
          "output_type": "stream",
          "name": "stdout",
          "text": [
            "+----------+--------------+----------+------------------+\n",
            "|  Data dia|Chuva dia (mm)|  Data mês|    Chuva mês (mm)|\n",
            "+----------+--------------+----------+------------------+\n",
            "|2015-01-01|           0.0|2015-01-01|               0.0|\n",
            "|2015-01-02|           0.0|2015-02-01|               0.0|\n",
            "|2015-01-03|           0.0|2015-03-01|               0.0|\n",
            "|2015-01-04|           0.0|2015-04-01| 5.000000000000001|\n",
            "|2015-01-05|           0.0|2015-05-01|106.00000000000001|\n",
            "|2015-01-06|           0.0|2015-06-01|               9.0|\n",
            "|2015-01-07|           0.0|2015-07-01|5.6000000000000005|\n",
            "|2015-01-08|           0.0|2015-08-01|               4.2|\n",
            "|2015-01-09|           0.0|2015-09-01|               0.4|\n",
            "|2015-01-10|           0.0|2015-10-01|               3.0|\n",
            "|2015-01-11|           0.0|2015-11-01|             133.4|\n",
            "|2015-01-12|           0.0|2015-12-01| 99.00000000000001|\n",
            "|2015-01-13|           0.0|      NULL|              NULL|\n",
            "|2015-01-14|           0.0|      NULL|              NULL|\n",
            "|2015-01-15|           0.0|      NULL|              NULL|\n",
            "|2015-01-16|           0.0|      NULL|              NULL|\n",
            "|2015-01-17|           0.0|      NULL|              NULL|\n",
            "|2015-01-18|           0.0|      NULL|              NULL|\n",
            "|2015-01-19|           0.0|      NULL|              NULL|\n",
            "|2015-01-20|           0.0|      NULL|              NULL|\n",
            "+----------+--------------+----------+------------------+\n",
            "only showing top 20 rows\n",
            "\n"
          ]
        }
      ]
    },
    {
      "cell_type": "code",
      "source": [
        "df_tabela_15.write.mode(\"overwrite\").option(\"header\", \"true\").csv(\"drive/MyDrive/Loocker/Dados Valadares/df_tabela_15.csv\")\n",
        "df_tabela_16.write.mode(\"overwrite\").option(\"header\", \"true\").csv(\"drive/MyDrive/Loocker/Dados Valadares/df_tabela_16.csv\")\n",
        "df_tabela_17.write.mode(\"overwrite\").option(\"header\", \"true\").csv(\"drive/MyDrive/Loocker/Dados Valadares/df_tabela_17.csv\")\n",
        "df_tabela_18.write.mode(\"overwrite\").option(\"header\", \"true\").csv(\"drive/MyDrive/Loocker/Dados Valadares/df_tabela_18.csv\")\n",
        "df_tabela_19.write.mode(\"overwrite\").option(\"header\", \"true\").csv(\"drive/MyDrive/Loocker/Dados Valadares/df_tabela_19.csv\")\n",
        "df_tabela_20.write.mode(\"overwrite\").option(\"header\", \"true\").csv(\"drive/MyDrive/Loocker/Dados Valadares/df_tabela_20.csv\")\n",
        "df_tabela_21.write.mode(\"overwrite\").option(\"header\", \"true\").csv(\"drive/MyDrive/Loocker/Dados Valadares/df_tabela_21.csv\")\n",
        "df_tabela_22.write.mode(\"overwrite\").option(\"header\", \"true\").csv(\"drive/MyDrive/Loocker/Dados Valadares/df_tabela_22.csv\")\n",
        "df_tabela_23.write.mode(\"overwrite\").option(\"header\", \"true\").csv(\"drive/MyDrive/Loocker/Dados Valadares/df_tabela_23.csv\")\n",
        "df_tabela_24.write.mode(\"overwrite\").option(\"header\", \"true\").csv(\"drive/MyDrive/Loocker/Dados Valadares/df_tabela_24.csv\")\n",
        "df_tabela_25.write.mode(\"overwrite\").option(\"header\", \"true\").csv(\"drive/MyDrive/Loocker/Dados Valadares/df_tabela_25.csv\")"
      ],
      "metadata": {
        "id": "mgQNWK-EY9WF"
      },
      "execution_count": 36,
      "outputs": []
    },
    {
      "cell_type": "code",
      "source": [
        "spark.stop()"
      ],
      "metadata": {
        "id": "RuayloyS-oop"
      },
      "execution_count": 37,
      "outputs": []
    }
  ],
  "metadata": {
    "colab": {
      "provenance": []
    },
    "kernelspec": {
      "display_name": "Python 3",
      "name": "python3"
    },
    "language_info": {
      "name": "python"
    }
  },
  "nbformat": 4,
  "nbformat_minor": 0
}